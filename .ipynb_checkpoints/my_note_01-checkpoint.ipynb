{
 "cells": [
  {
   "cell_type": "markdown",
   "metadata": {},
   "source": [
    "# Neural Network Foundations"
   ]
  },
  {
   "cell_type": "code",
   "execution_count": 1,
   "metadata": {},
   "outputs": [],
   "source": [
    "import tensorflow as tf"
   ]
  },
  {
   "cell_type": "code",
   "execution_count": 2,
   "metadata": {},
   "outputs": [],
   "source": [
    "tf.logging.set_verbosity(tf.logging.ERROR)"
   ]
  },
  {
   "cell_type": "code",
   "execution_count": 3,
   "metadata": {},
   "outputs": [
    {
     "name": "stderr",
     "output_type": "stream",
     "text": [
      "Using TensorFlow backend.\n"
     ]
    }
   ],
   "source": [
    "from keras.models import Sequential"
   ]
  },
  {
   "cell_type": "code",
   "execution_count": 4,
   "metadata": {},
   "outputs": [],
   "source": [
    "from keras.layers import Dense"
   ]
  },
  {
   "cell_type": "code",
   "execution_count": 5,
   "metadata": {},
   "outputs": [],
   "source": [
    "model = Sequential()\n",
    "model.add(Dense(12, input_dim=8, kernel_initializer='random_uniform'))"
   ]
  },
  {
   "cell_type": "markdown",
   "metadata": {},
   "source": [
    "The net is dense, meaning that each neuron in a layer is connected\n",
    "to all neurons located in the previous layer and to all the neurons\n",
    "in the following layer."
   ]
  },
  {
   "cell_type": "markdown",
   "metadata": {},
   "source": [
    "### Problems in Training the Perceptron and a Solution"
   ]
  },
  {
   "cell_type": "markdown",
   "metadata": {},
   "source": [
    "We cannot simply use accuracy as the metric for optimization, because it is not continuous, we need a function that progressively changes from 0 to 1 with no discontinuity.\n",
    "\n",
    "Mathematically, this means that we need\n",
    "a continuous function that allows us to compute the derivative\n",
    "\n",
    "Activation function\n",
    "- sigmoid\n",
    "- rectified linear unit (ReLU)"
   ]
  },
  {
   "cell_type": "markdown",
   "metadata": {},
   "source": [
    "### A real example — recognizing handwritten digits"
   ]
  },
  {
   "cell_type": "code",
   "execution_count": 6,
   "metadata": {},
   "outputs": [],
   "source": [
    "import numpy as np\n",
    "from keras.datasets import mnist\n",
    "from keras.models import Sequential\n",
    "from keras.layers.core import Dense, Activation\n",
    "from keras.optimizers import SGD\n",
    "from keras.utils import np_utils"
   ]
  },
  {
   "cell_type": "code",
   "execution_count": 7,
   "metadata": {},
   "outputs": [],
   "source": [
    "np.random.seed(1671)"
   ]
  },
  {
   "cell_type": "code",
   "execution_count": 8,
   "metadata": {},
   "outputs": [],
   "source": [
    "nb_epoch = 20\n",
    "batch_size = 10000\n",
    "verbose = 1\n",
    "nb_classes = 10\n",
    "optimizer = SGD()\n",
    "validation_split = 0.2"
   ]
  },
  {
   "cell_type": "code",
   "execution_count": 9,
   "metadata": {},
   "outputs": [],
   "source": [
    "(X_train, y_train), (X_test, y_test) = mnist.load_data()"
   ]
  },
  {
   "cell_type": "code",
   "execution_count": 10,
   "metadata": {},
   "outputs": [
    {
     "name": "stdout",
     "output_type": "stream",
     "text": [
      "60000 training samples\n",
      "10000 testing samples\n"
     ]
    }
   ],
   "source": [
    "X_train = X_train.reshape(60000, 784).astype('float32')\n",
    "X_test = X_test.reshape(10000, 784).astype('float32')\n",
    "X_train = X_train / 255\n",
    "X_test = X_test / 255\n",
    "print(X_train.shape[0], 'training samples')\n",
    "print(X_test.shape[0], 'testing samples')"
   ]
  },
  {
   "cell_type": "code",
   "execution_count": 11,
   "metadata": {},
   "outputs": [],
   "source": [
    "y_train = np_utils.to_categorical(y_train, num_classes=10)\n",
    "y_test = np_utils.to_categorical(y_test, num_classes=10)"
   ]
  },
  {
   "cell_type": "code",
   "execution_count": 12,
   "metadata": {},
   "outputs": [
    {
     "name": "stdout",
     "output_type": "stream",
     "text": [
      "_________________________________________________________________\n",
      "Layer (type)                 Output Shape              Param #   \n",
      "=================================================================\n",
      "dense_2 (Dense)              (None, 10)                7850      \n",
      "_________________________________________________________________\n",
      "activation_1 (Activation)    (None, 10)                0         \n",
      "=================================================================\n",
      "Total params: 7,850\n",
      "Trainable params: 7,850\n",
      "Non-trainable params: 0\n",
      "_________________________________________________________________\n"
     ]
    }
   ],
   "source": [
    "model = Sequential()\n",
    "model.add(Dense(nb_classes, input_shape=(784,)))\n",
    "model.add(Activation('softmax'))\n",
    "model.summary()"
   ]
  },
  {
   "cell_type": "code",
   "execution_count": 13,
   "metadata": {},
   "outputs": [],
   "source": [
    "model.compile(optimizer, loss='categorical_crossentropy', metrics=['accuracy'])"
   ]
  },
  {
   "cell_type": "code",
   "execution_count": 16,
   "metadata": {},
   "outputs": [
    {
     "name": "stdout",
     "output_type": "stream",
     "text": [
      "Train on 48000 samples, validate on 12000 samples\n",
      "Epoch 1/20\n",
      "48000/48000 [==============================] - 2s 46us/step - loss: 0.6982 - acc: 0.8393 - val_loss: 0.4899 - val_acc: 0.8805\n",
      "Epoch 2/20\n",
      "48000/48000 [==============================] - 2s 43us/step - loss: 0.4786 - acc: 0.8755 - val_loss: 0.4128 - val_acc: 0.8924\n",
      "Epoch 3/20\n",
      "48000/48000 [==============================] - 2s 43us/step - loss: 0.4235 - acc: 0.8871 - val_loss: 0.3796 - val_acc: 0.9006\n",
      "Epoch 4/20\n",
      "48000/48000 [==============================] - 2s 44us/step - loss: 0.3949 - acc: 0.8925 - val_loss: 0.3599 - val_acc: 0.9034\n",
      "Epoch 5/20\n",
      "48000/48000 [==============================] - 2s 43us/step - loss: 0.3766 - acc: 0.8966 - val_loss: 0.3470 - val_acc: 0.9053\n",
      "Epoch 6/20\n",
      "48000/48000 [==============================] - 2s 44us/step - loss: 0.3635 - acc: 0.9000 - val_loss: 0.3382 - val_acc: 0.9065\n",
      "Epoch 7/20\n",
      "48000/48000 [==============================] - 2s 45us/step - loss: 0.3536 - acc: 0.9024 - val_loss: 0.3301 - val_acc: 0.9093\n",
      "Epoch 8/20\n",
      "48000/48000 [==============================] - 2s 44us/step - loss: 0.3456 - acc: 0.9041 - val_loss: 0.3244 - val_acc: 0.9104\n",
      "Epoch 9/20\n",
      "48000/48000 [==============================] - 2s 44us/step - loss: 0.3391 - acc: 0.9055 - val_loss: 0.3199 - val_acc: 0.9113\n",
      "Epoch 10/20\n",
      "48000/48000 [==============================] - 2s 44us/step - loss: 0.3337 - acc: 0.9070 - val_loss: 0.3152 - val_acc: 0.9120\n",
      "Epoch 11/20\n",
      "48000/48000 [==============================] - 2s 45us/step - loss: 0.3289 - acc: 0.9083 - val_loss: 0.3122 - val_acc: 0.9130\n",
      "Epoch 12/20\n",
      "48000/48000 [==============================] - 2s 48us/step - loss: 0.3249 - acc: 0.9097 - val_loss: 0.3087 - val_acc: 0.9141\n",
      "Epoch 13/20\n",
      "48000/48000 [==============================] - 2s 50us/step - loss: 0.3213 - acc: 0.9105 - val_loss: 0.3060 - val_acc: 0.9147\n",
      "Epoch 14/20\n",
      "48000/48000 [==============================] - 2s 51us/step - loss: 0.3180 - acc: 0.9118 - val_loss: 0.3040 - val_acc: 0.9154\n",
      "Epoch 15/20\n",
      "48000/48000 [==============================] - 3s 67us/step - loss: 0.3153 - acc: 0.9122 - val_loss: 0.3025 - val_acc: 0.9158\n",
      "Epoch 16/20\n",
      "48000/48000 [==============================] - 3s 65us/step - loss: 0.3126 - acc: 0.9134 - val_loss: 0.2997 - val_acc: 0.9161\n",
      "Epoch 17/20\n",
      "48000/48000 [==============================] - 2s 47us/step - loss: 0.3103 - acc: 0.9139 - val_loss: 0.2980 - val_acc: 0.9163\n",
      "Epoch 18/20\n",
      "48000/48000 [==============================] - 2s 52us/step - loss: 0.3080 - acc: 0.9144 - val_loss: 0.2964 - val_acc: 0.9166\n",
      "Epoch 19/20\n",
      "48000/48000 [==============================] - 3s 54us/step - loss: 0.3061 - acc: 0.9148 - val_loss: 0.2953 - val_acc: 0.9168\n",
      "Epoch 20/20\n",
      "48000/48000 [==============================] - 2s 48us/step - loss: 0.3041 - acc: 0.9153 - val_loss: 0.2936 - val_acc: 0.9178\n",
      "CPU times: user 1min 4s, sys: 10 s, total: 1min 14s\n",
      "Wall time: 46.5 s\n"
     ]
    }
   ],
   "source": [
    "%%time\n",
    "history = model.fit(X_train, y_train, epochs=nb_epoch, verbose=True, validation_split=validation_split)"
   ]
  },
  {
   "cell_type": "code",
   "execution_count": 17,
   "metadata": {},
   "outputs": [
    {
     "name": "stdout",
     "output_type": "stream",
     "text": [
      "10000/10000 [==============================] - 0s 20us/step\n"
     ]
    },
    {
     "data": {
      "text/plain": [
       "[0.2939101231336594, 0.9189]"
      ]
     },
     "execution_count": 17,
     "metadata": {},
     "output_type": "execute_result"
    }
   ],
   "source": [
    "model.evaluate(X_test, y_test)"
   ]
  },
  {
   "cell_type": "markdown",
   "metadata": {},
   "source": [
    "### Add more hidden layers to improve the performance"
   ]
  },
  {
   "cell_type": "code",
   "execution_count": 18,
   "metadata": {},
   "outputs": [],
   "source": [
    "nb_epoch = 20\n",
    "batch_size = 128\n",
    "verbose = 1\n",
    "nb_classes = 10\n",
    "optimizer = SGD()\n",
    "validation_split = 0.2\n",
    "n_hidden = 128"
   ]
  },
  {
   "cell_type": "code",
   "execution_count": 19,
   "metadata": {},
   "outputs": [
    {
     "name": "stdout",
     "output_type": "stream",
     "text": [
      "Train on 48000 samples, validate on 12000 samples\n",
      "Epoch 1/20\n",
      "48000/48000 [==============================] - 2s 42us/step - loss: 1.5334 - acc: 0.6244 - val_loss: 0.7964 - val_acc: 0.8373\n",
      "Epoch 2/20\n",
      "48000/48000 [==============================] - 2s 32us/step - loss: 0.6137 - acc: 0.8525 - val_loss: 0.4594 - val_acc: 0.8827\n",
      "Epoch 3/20\n",
      "48000/48000 [==============================] - 2s 32us/step - loss: 0.4382 - acc: 0.8831 - val_loss: 0.3735 - val_acc: 0.8985\n",
      "Epoch 4/20\n",
      "48000/48000 [==============================] - 1s 31us/step - loss: 0.3759 - acc: 0.8964 - val_loss: 0.3343 - val_acc: 0.9058\n",
      "Epoch 5/20\n",
      "48000/48000 [==============================] - 2s 38us/step - loss: 0.3415 - acc: 0.9037 - val_loss: 0.3104 - val_acc: 0.9126\n",
      "Epoch 6/20\n",
      "48000/48000 [==============================] - 2s 33us/step - loss: 0.3184 - acc: 0.9099 - val_loss: 0.2924 - val_acc: 0.9175\n",
      "Epoch 7/20\n",
      "48000/48000 [==============================] - 2s 32us/step - loss: 0.3005 - acc: 0.9148 - val_loss: 0.2779 - val_acc: 0.9201\n",
      "Epoch 8/20\n",
      "48000/48000 [==============================] - 2s 38us/step - loss: 0.2860 - acc: 0.9187 - val_loss: 0.2674 - val_acc: 0.9229\n",
      "Epoch 9/20\n",
      "48000/48000 [==============================] - 2s 38us/step - loss: 0.2736 - acc: 0.9221 - val_loss: 0.2581 - val_acc: 0.9274\n",
      "Epoch 10/20\n",
      "48000/48000 [==============================] - 2s 33us/step - loss: 0.2631 - acc: 0.9252 - val_loss: 0.2491 - val_acc: 0.9284\n",
      "Epoch 11/20\n",
      "48000/48000 [==============================] - 2s 36us/step - loss: 0.2536 - acc: 0.9274 - val_loss: 0.2408 - val_acc: 0.9309\n",
      "Epoch 12/20\n",
      "48000/48000 [==============================] - 2s 34us/step - loss: 0.2447 - acc: 0.9301 - val_loss: 0.2353 - val_acc: 0.9335\n",
      "Epoch 13/20\n",
      "48000/48000 [==============================] - 2s 32us/step - loss: 0.2369 - acc: 0.9328 - val_loss: 0.2278 - val_acc: 0.9357\n",
      "Epoch 14/20\n",
      "48000/48000 [==============================] - 2s 35us/step - loss: 0.2295 - acc: 0.9351 - val_loss: 0.2221 - val_acc: 0.9375\n",
      "Epoch 15/20\n",
      "48000/48000 [==============================] - 2s 34us/step - loss: 0.2227 - acc: 0.9361 - val_loss: 0.2163 - val_acc: 0.9390\n",
      "Epoch 16/20\n",
      "48000/48000 [==============================] - 2s 32us/step - loss: 0.2163 - acc: 0.9382 - val_loss: 0.2118 - val_acc: 0.9407\n",
      "Epoch 17/20\n",
      "48000/48000 [==============================] - 2s 32us/step - loss: 0.2105 - acc: 0.9401 - val_loss: 0.2080 - val_acc: 0.9425\n",
      "Epoch 18/20\n",
      "48000/48000 [==============================] - 2s 41us/step - loss: 0.2047 - acc: 0.9412 - val_loss: 0.2020 - val_acc: 0.9447\n",
      "Epoch 19/20\n",
      "48000/48000 [==============================] - 2s 35us/step - loss: 0.1995 - acc: 0.9426 - val_loss: 0.1983 - val_acc: 0.9447\n",
      "Epoch 20/20\n",
      "48000/48000 [==============================] - 2s 34us/step - loss: 0.1945 - acc: 0.9441 - val_loss: 0.1946 - val_acc: 0.9465\n"
     ]
    },
    {
     "data": {
      "text/plain": [
       "<keras.callbacks.History at 0xb2acb5c18>"
      ]
     },
     "execution_count": 19,
     "metadata": {},
     "output_type": "execute_result"
    }
   ],
   "source": [
    "model = Sequential(layers=[\n",
    "    Dense(n_hidden, input_shape=(784,)),\n",
    "    Activation('relu'),\n",
    "    Dense(n_hidden),\n",
    "    Activation('relu'),\n",
    "    Dense(nb_classes),\n",
    "    Activation('softmax')\n",
    "])\n",
    "model.compile(optimizer, loss='categorical_crossentropy', metrics=['accuracy'])\n",
    "model.fit(X_train, y_train, batch_size=batch_size, epochs=nb_epoch, validation_split=validation_split)"
   ]
  },
  {
   "cell_type": "code",
   "execution_count": 21,
   "metadata": {},
   "outputs": [
    {
     "name": "stdout",
     "output_type": "stream",
     "text": [
      "10000/10000 [==============================] - 0s 33us/step\n"
     ]
    },
    {
     "data": {
      "text/plain": [
       "[0.1923598583072424, 0.945]"
      ]
     },
     "execution_count": 21,
     "metadata": {},
     "output_type": "execute_result"
    }
   ],
   "source": [
    "model.evaluate(X_test, y_test)"
   ]
  },
  {
   "cell_type": "markdown",
   "metadata": {},
   "source": [
    "### Further improving the model with dropout"
   ]
  },
  {
   "cell_type": "code",
   "execution_count": 22,
   "metadata": {},
   "outputs": [],
   "source": [
    "from keras.layers.core import Dropout"
   ]
  },
  {
   "cell_type": "code",
   "execution_count": 23,
   "metadata": {},
   "outputs": [
    {
     "name": "stdout",
     "output_type": "stream",
     "text": [
      "Train on 48000 samples, validate on 12000 samples\n",
      "Epoch 1/250\n",
      "48000/48000 [==============================] - 2s 50us/step - loss: 1.7092 - acc: 0.4543 - val_loss: 0.9021 - val_acc: 0.8151\n",
      "Epoch 2/250\n",
      "48000/48000 [==============================] - 2s 42us/step - loss: 0.9238 - acc: 0.7163 - val_loss: 0.5283 - val_acc: 0.8694\n",
      "Epoch 3/250\n",
      "48000/48000 [==============================] - 2s 44us/step - loss: 0.7003 - acc: 0.7847 - val_loss: 0.4218 - val_acc: 0.8883\n",
      "Epoch 4/250\n",
      "48000/48000 [==============================] - 2s 37us/step - loss: 0.5952 - acc: 0.8193 - val_loss: 0.3675 - val_acc: 0.8991\n",
      "Epoch 5/250\n",
      "48000/48000 [==============================] - 2s 39us/step - loss: 0.5338 - acc: 0.8389 - val_loss: 0.3356 - val_acc: 0.9067\n",
      "Epoch 6/250\n",
      "48000/48000 [==============================] - 2s 45us/step - loss: 0.4955 - acc: 0.8526 - val_loss: 0.3135 - val_acc: 0.9113\n",
      "Epoch 7/250\n",
      "48000/48000 [==============================] - 2s 38us/step - loss: 0.4612 - acc: 0.8626 - val_loss: 0.2953 - val_acc: 0.9155\n",
      "Epoch 8/250\n",
      "48000/48000 [==============================] - 2s 42us/step - loss: 0.4356 - acc: 0.8713 - val_loss: 0.2809 - val_acc: 0.9196\n",
      "Epoch 9/250\n",
      "48000/48000 [==============================] - 2s 42us/step - loss: 0.4155 - acc: 0.8769 - val_loss: 0.2685 - val_acc: 0.9217\n",
      "Epoch 10/250\n",
      "48000/48000 [==============================] - 2s 44us/step - loss: 0.3964 - acc: 0.8836 - val_loss: 0.2570 - val_acc: 0.9247\n",
      "Epoch 11/250\n",
      "48000/48000 [==============================] - 2s 43us/step - loss: 0.3802 - acc: 0.8889 - val_loss: 0.2485 - val_acc: 0.9259\n",
      "Epoch 12/250\n",
      "48000/48000 [==============================] - 2s 39us/step - loss: 0.3655 - acc: 0.8929 - val_loss: 0.2407 - val_acc: 0.9282\n",
      "Epoch 13/250\n",
      "48000/48000 [==============================] - 2s 42us/step - loss: 0.3524 - acc: 0.8952 - val_loss: 0.2330 - val_acc: 0.9303\n",
      "Epoch 14/250\n",
      "48000/48000 [==============================] - 2s 41us/step - loss: 0.3414 - acc: 0.8991 - val_loss: 0.2251 - val_acc: 0.9329\n",
      "Epoch 15/250\n",
      "48000/48000 [==============================] - 2s 44us/step - loss: 0.3327 - acc: 0.9020 - val_loss: 0.2186 - val_acc: 0.9346\n",
      "Epoch 16/250\n",
      "48000/48000 [==============================] - 2s 44us/step - loss: 0.3244 - acc: 0.9044 - val_loss: 0.2138 - val_acc: 0.9367\n",
      "Epoch 17/250\n",
      "48000/48000 [==============================] - 2s 39us/step - loss: 0.3181 - acc: 0.9066 - val_loss: 0.2083 - val_acc: 0.9385\n",
      "Epoch 18/250\n",
      "48000/48000 [==============================] - 2s 40us/step - loss: 0.3061 - acc: 0.9101 - val_loss: 0.2018 - val_acc: 0.9401\n",
      "Epoch 19/250\n",
      "48000/48000 [==============================] - 2s 46us/step - loss: 0.2994 - acc: 0.9114 - val_loss: 0.1983 - val_acc: 0.9422\n",
      "Epoch 20/250\n",
      "48000/48000 [==============================] - 2s 44us/step - loss: 0.2905 - acc: 0.9140 - val_loss: 0.1926 - val_acc: 0.9437\n",
      "Epoch 21/250\n",
      "48000/48000 [==============================] - 2s 39us/step - loss: 0.2866 - acc: 0.9153 - val_loss: 0.1877 - val_acc: 0.9452\n",
      "Epoch 22/250\n",
      "48000/48000 [==============================] - 2s 43us/step - loss: 0.2775 - acc: 0.9185 - val_loss: 0.1849 - val_acc: 0.9463\n",
      "Epoch 23/250\n",
      "48000/48000 [==============================] - 2s 42us/step - loss: 0.2686 - acc: 0.9209 - val_loss: 0.1804 - val_acc: 0.9476\n",
      "Epoch 24/250\n",
      "48000/48000 [==============================] - 2s 41us/step - loss: 0.2683 - acc: 0.9209 - val_loss: 0.1775 - val_acc: 0.9485\n",
      "Epoch 25/250\n",
      "48000/48000 [==============================] - 2s 43us/step - loss: 0.2647 - acc: 0.9233 - val_loss: 0.1734 - val_acc: 0.9499\n",
      "Epoch 26/250\n",
      "48000/48000 [==============================] - 2s 39us/step - loss: 0.2550 - acc: 0.9255 - val_loss: 0.1699 - val_acc: 0.9516\n",
      "Epoch 27/250\n",
      "48000/48000 [==============================] - 2s 46us/step - loss: 0.2511 - acc: 0.9261 - val_loss: 0.1672 - val_acc: 0.9518\n",
      "Epoch 28/250\n",
      "48000/48000 [==============================] - 2s 42us/step - loss: 0.2467 - acc: 0.9266 - val_loss: 0.1647 - val_acc: 0.9527\n",
      "Epoch 29/250\n",
      "48000/48000 [==============================] - 2s 43us/step - loss: 0.2435 - acc: 0.9284 - val_loss: 0.1621 - val_acc: 0.9529\n",
      "Epoch 30/250\n",
      "48000/48000 [==============================] - 2s 45us/step - loss: 0.2397 - acc: 0.9293 - val_loss: 0.1587 - val_acc: 0.9552\n",
      "Epoch 31/250\n",
      "48000/48000 [==============================] - 2s 39us/step - loss: 0.2349 - acc: 0.9305 - val_loss: 0.1572 - val_acc: 0.9553\n",
      "Epoch 32/250\n",
      "48000/48000 [==============================] - 2s 34us/step - loss: 0.2311 - acc: 0.9324 - val_loss: 0.1545 - val_acc: 0.9561\n",
      "Epoch 33/250\n",
      "48000/48000 [==============================] - 2s 34us/step - loss: 0.2268 - acc: 0.9328 - val_loss: 0.1516 - val_acc: 0.9571\n",
      "Epoch 34/250\n",
      "48000/48000 [==============================] - 2s 34us/step - loss: 0.2254 - acc: 0.9337 - val_loss: 0.1490 - val_acc: 0.9581\n",
      "Epoch 35/250\n",
      "48000/48000 [==============================] - 2s 34us/step - loss: 0.2220 - acc: 0.9345 - val_loss: 0.1473 - val_acc: 0.9578\n",
      "Epoch 36/250\n",
      "48000/48000 [==============================] - 2s 35us/step - loss: 0.2191 - acc: 0.9356 - val_loss: 0.1447 - val_acc: 0.9589\n",
      "Epoch 37/250\n",
      "48000/48000 [==============================] - 2s 34us/step - loss: 0.2170 - acc: 0.9354 - val_loss: 0.1438 - val_acc: 0.9588\n",
      "Epoch 38/250\n",
      "48000/48000 [==============================] - 2s 34us/step - loss: 0.2109 - acc: 0.9377 - val_loss: 0.1413 - val_acc: 0.9603\n",
      "Epoch 39/250\n",
      "48000/48000 [==============================] - 2s 37us/step - loss: 0.2076 - acc: 0.9387 - val_loss: 0.1393 - val_acc: 0.9608\n",
      "Epoch 40/250\n",
      "48000/48000 [==============================] - 3s 56us/step - loss: 0.2057 - acc: 0.9393 - val_loss: 0.1377 - val_acc: 0.9604\n",
      "Epoch 41/250\n",
      "48000/48000 [==============================] - 2s 43us/step - loss: 0.2027 - acc: 0.9405 - val_loss: 0.1365 - val_acc: 0.9615\n",
      "Epoch 42/250\n",
      "48000/48000 [==============================] - 2s 43us/step - loss: 0.2017 - acc: 0.9399 - val_loss: 0.1351 - val_acc: 0.9621\n",
      "Epoch 43/250\n",
      "48000/48000 [==============================] - 2s 44us/step - loss: 0.1987 - acc: 0.9417 - val_loss: 0.1331 - val_acc: 0.9623\n",
      "Epoch 44/250\n",
      "48000/48000 [==============================] - 2s 49us/step - loss: 0.1959 - acc: 0.9420 - val_loss: 0.1319 - val_acc: 0.9623\n",
      "Epoch 45/250\n",
      "48000/48000 [==============================] - 2s 48us/step - loss: 0.1940 - acc: 0.9425 - val_loss: 0.1301 - val_acc: 0.9632\n",
      "Epoch 46/250\n",
      "48000/48000 [==============================] - 2s 46us/step - loss: 0.1935 - acc: 0.9433 - val_loss: 0.1293 - val_acc: 0.9633\n",
      "Epoch 47/250\n",
      "48000/48000 [==============================] - 2s 44us/step - loss: 0.1878 - acc: 0.9452 - val_loss: 0.1270 - val_acc: 0.9647\n",
      "Epoch 48/250\n",
      "48000/48000 [==============================] - 2s 36us/step - loss: 0.1863 - acc: 0.9439 - val_loss: 0.1263 - val_acc: 0.9643\n",
      "Epoch 49/250\n",
      "48000/48000 [==============================] - 2s 35us/step - loss: 0.1843 - acc: 0.9461 - val_loss: 0.1251 - val_acc: 0.9648\n",
      "Epoch 50/250\n",
      "48000/48000 [==============================] - 2s 34us/step - loss: 0.1831 - acc: 0.9459 - val_loss: 0.1229 - val_acc: 0.9650\n",
      "Epoch 51/250\n",
      "48000/48000 [==============================] - 2s 36us/step - loss: 0.1778 - acc: 0.9477 - val_loss: 0.1219 - val_acc: 0.9654\n",
      "Epoch 52/250\n",
      "48000/48000 [==============================] - 2s 36us/step - loss: 0.1790 - acc: 0.9479 - val_loss: 0.1210 - val_acc: 0.9658\n",
      "Epoch 53/250\n",
      "48000/48000 [==============================] - 2s 35us/step - loss: 0.1764 - acc: 0.9475 - val_loss: 0.1201 - val_acc: 0.9658\n",
      "Epoch 54/250\n",
      "48000/48000 [==============================] - 2s 36us/step - loss: 0.1743 - acc: 0.9490 - val_loss: 0.1191 - val_acc: 0.9666\n",
      "Epoch 55/250\n",
      "48000/48000 [==============================] - 2s 39us/step - loss: 0.1706 - acc: 0.9495 - val_loss: 0.1183 - val_acc: 0.9665\n",
      "Epoch 56/250\n",
      "48000/48000 [==============================] - 2s 40us/step - loss: 0.1708 - acc: 0.9500 - val_loss: 0.1168 - val_acc: 0.9672\n",
      "Epoch 57/250\n",
      "48000/48000 [==============================] - 2s 47us/step - loss: 0.1675 - acc: 0.9504 - val_loss: 0.1163 - val_acc: 0.9668\n",
      "Epoch 58/250\n",
      "48000/48000 [==============================] - 2s 36us/step - loss: 0.1664 - acc: 0.9501 - val_loss: 0.1151 - val_acc: 0.9668\n",
      "Epoch 59/250\n",
      "48000/48000 [==============================] - 2s 35us/step - loss: 0.1654 - acc: 0.9504 - val_loss: 0.1147 - val_acc: 0.9672\n",
      "Epoch 60/250\n",
      "48000/48000 [==============================] - 2s 36us/step - loss: 0.1644 - acc: 0.9515 - val_loss: 0.1138 - val_acc: 0.9672\n",
      "Epoch 61/250\n",
      "48000/48000 [==============================] - 2s 36us/step - loss: 0.1627 - acc: 0.9523 - val_loss: 0.1136 - val_acc: 0.9679\n",
      "Epoch 62/250\n",
      "48000/48000 [==============================] - 2s 36us/step - loss: 0.1591 - acc: 0.9533 - val_loss: 0.1119 - val_acc: 0.9679\n",
      "Epoch 63/250\n",
      "48000/48000 [==============================] - 2s 36us/step - loss: 0.1594 - acc: 0.9528 - val_loss: 0.1117 - val_acc: 0.9680\n",
      "Epoch 64/250\n",
      "48000/48000 [==============================] - 2s 35us/step - loss: 0.1584 - acc: 0.9533 - val_loss: 0.1107 - val_acc: 0.9684\n",
      "Epoch 65/250\n",
      "48000/48000 [==============================] - 2s 38us/step - loss: 0.1559 - acc: 0.9528 - val_loss: 0.1098 - val_acc: 0.9681\n",
      "Epoch 66/250\n",
      "48000/48000 [==============================] - 2s 43us/step - loss: 0.1532 - acc: 0.9540 - val_loss: 0.1086 - val_acc: 0.9686\n",
      "Epoch 67/250\n",
      "48000/48000 [==============================] - 2s 39us/step - loss: 0.1540 - acc: 0.9547 - val_loss: 0.1078 - val_acc: 0.9694\n",
      "Epoch 68/250\n",
      "48000/48000 [==============================] - 2s 36us/step - loss: 0.1508 - acc: 0.9549 - val_loss: 0.1077 - val_acc: 0.9688\n",
      "Epoch 69/250\n",
      "48000/48000 [==============================] - 2s 36us/step - loss: 0.1525 - acc: 0.9546 - val_loss: 0.1067 - val_acc: 0.9691\n",
      "Epoch 70/250\n",
      "48000/48000 [==============================] - 2s 36us/step - loss: 0.1485 - acc: 0.9563 - val_loss: 0.1066 - val_acc: 0.9681\n",
      "Epoch 71/250\n",
      "48000/48000 [==============================] - 2s 37us/step - loss: 0.1497 - acc: 0.9557 - val_loss: 0.1055 - val_acc: 0.9703\n",
      "Epoch 72/250\n",
      "48000/48000 [==============================] - 2s 36us/step - loss: 0.1486 - acc: 0.9562 - val_loss: 0.1051 - val_acc: 0.9695\n",
      "Epoch 73/250\n",
      "48000/48000 [==============================] - 2s 37us/step - loss: 0.1454 - acc: 0.9575 - val_loss: 0.1050 - val_acc: 0.9695\n",
      "Epoch 74/250\n",
      "48000/48000 [==============================] - 2s 37us/step - loss: 0.1455 - acc: 0.9573 - val_loss: 0.1041 - val_acc: 0.9700\n",
      "Epoch 75/250\n",
      "48000/48000 [==============================] - 2s 37us/step - loss: 0.1453 - acc: 0.9573 - val_loss: 0.1033 - val_acc: 0.9702\n",
      "Epoch 76/250\n",
      "48000/48000 [==============================] - 2s 37us/step - loss: 0.1432 - acc: 0.9572 - val_loss: 0.1024 - val_acc: 0.9705\n",
      "Epoch 77/250\n",
      "48000/48000 [==============================] - 2s 37us/step - loss: 0.1411 - acc: 0.9580 - val_loss: 0.1018 - val_acc: 0.9702\n",
      "Epoch 78/250\n",
      "48000/48000 [==============================] - 2s 44us/step - loss: 0.1397 - acc: 0.9577 - val_loss: 0.1016 - val_acc: 0.9703\n",
      "Epoch 79/250\n",
      "48000/48000 [==============================] - 2s 43us/step - loss: 0.1406 - acc: 0.9588 - val_loss: 0.1011 - val_acc: 0.9709\n",
      "Epoch 80/250\n",
      "48000/48000 [==============================] - 2s 45us/step - loss: 0.1371 - acc: 0.9597 - val_loss: 0.1002 - val_acc: 0.9714\n",
      "Epoch 81/250\n",
      "48000/48000 [==============================] - 2s 43us/step - loss: 0.1369 - acc: 0.9585 - val_loss: 0.1001 - val_acc: 0.9717\n",
      "Epoch 82/250\n",
      "48000/48000 [==============================] - 2s 36us/step - loss: 0.1343 - acc: 0.9600 - val_loss: 0.0997 - val_acc: 0.9713\n",
      "Epoch 83/250\n",
      "48000/48000 [==============================] - 2s 39us/step - loss: 0.1346 - acc: 0.9597 - val_loss: 0.0995 - val_acc: 0.9703\n",
      "Epoch 84/250\n",
      "48000/48000 [==============================] - 2s 36us/step - loss: 0.1336 - acc: 0.9603 - val_loss: 0.0980 - val_acc: 0.9713\n",
      "Epoch 85/250\n",
      "48000/48000 [==============================] - 2s 38us/step - loss: 0.1307 - acc: 0.9602 - val_loss: 0.0978 - val_acc: 0.9718\n",
      "Epoch 86/250\n",
      "48000/48000 [==============================] - 2s 47us/step - loss: 0.1305 - acc: 0.9613 - val_loss: 0.0971 - val_acc: 0.9718\n",
      "Epoch 87/250\n",
      "48000/48000 [==============================] - 2s 42us/step - loss: 0.1282 - acc: 0.9619 - val_loss: 0.0965 - val_acc: 0.9718\n",
      "Epoch 88/250\n",
      "48000/48000 [==============================] - 2s 43us/step - loss: 0.1322 - acc: 0.9601 - val_loss: 0.0964 - val_acc: 0.9725\n",
      "Epoch 89/250\n",
      "48000/48000 [==============================] - 2s 43us/step - loss: 0.1292 - acc: 0.9612 - val_loss: 0.0962 - val_acc: 0.9721\n",
      "Epoch 90/250\n",
      "48000/48000 [==============================] - 2s 49us/step - loss: 0.1291 - acc: 0.9615 - val_loss: 0.0960 - val_acc: 0.9720\n",
      "Epoch 91/250\n",
      "48000/48000 [==============================] - 2s 46us/step - loss: 0.1291 - acc: 0.9617 - val_loss: 0.0948 - val_acc: 0.9726\n",
      "Epoch 92/250\n",
      "48000/48000 [==============================] - 2s 41us/step - loss: 0.1270 - acc: 0.9616 - val_loss: 0.0945 - val_acc: 0.9722\n",
      "Epoch 93/250\n",
      "48000/48000 [==============================] - 2s 47us/step - loss: 0.1261 - acc: 0.9625 - val_loss: 0.0942 - val_acc: 0.9730\n",
      "Epoch 94/250\n",
      "48000/48000 [==============================] - 3s 56us/step - loss: 0.1251 - acc: 0.9625 - val_loss: 0.0944 - val_acc: 0.9723\n",
      "Epoch 95/250\n",
      "48000/48000 [==============================] - 3s 58us/step - loss: 0.1236 - acc: 0.9625 - val_loss: 0.0946 - val_acc: 0.9722\n",
      "Epoch 96/250\n",
      "48000/48000 [==============================] - 3s 53us/step - loss: 0.1218 - acc: 0.9636 - val_loss: 0.0934 - val_acc: 0.9730\n",
      "Epoch 97/250\n",
      "48000/48000 [==============================] - 3s 54us/step - loss: 0.1229 - acc: 0.9635 - val_loss: 0.0927 - val_acc: 0.9728\n",
      "Epoch 98/250\n",
      "48000/48000 [==============================] - 3s 55us/step - loss: 0.1202 - acc: 0.9644 - val_loss: 0.0926 - val_acc: 0.9726\n",
      "Epoch 99/250\n",
      "48000/48000 [==============================] - 3s 53us/step - loss: 0.1204 - acc: 0.9635 - val_loss: 0.0922 - val_acc: 0.9734\n",
      "Epoch 100/250\n",
      "48000/48000 [==============================] - 3s 53us/step - loss: 0.1201 - acc: 0.9637 - val_loss: 0.0924 - val_acc: 0.9727\n",
      "Epoch 101/250\n",
      "48000/48000 [==============================] - 3s 56us/step - loss: 0.1200 - acc: 0.9653 - val_loss: 0.0915 - val_acc: 0.9733\n",
      "Epoch 102/250\n",
      "48000/48000 [==============================] - 3s 59us/step - loss: 0.1190 - acc: 0.9649 - val_loss: 0.0913 - val_acc: 0.9730\n",
      "Epoch 103/250\n",
      "48000/48000 [==============================] - 3s 55us/step - loss: 0.1174 - acc: 0.9651 - val_loss: 0.0915 - val_acc: 0.9731\n",
      "Epoch 104/250\n",
      "48000/48000 [==============================] - 3s 53us/step - loss: 0.1171 - acc: 0.9656 - val_loss: 0.0912 - val_acc: 0.9731\n",
      "Epoch 105/250\n",
      "48000/48000 [==============================] - 2s 51us/step - loss: 0.1149 - acc: 0.9656 - val_loss: 0.0913 - val_acc: 0.9736\n",
      "Epoch 106/250\n",
      "48000/48000 [==============================] - 3s 56us/step - loss: 0.1159 - acc: 0.9665 - val_loss: 0.0904 - val_acc: 0.9737\n",
      "Epoch 107/250\n",
      "48000/48000 [==============================] - 2s 51us/step - loss: 0.1135 - acc: 0.9657 - val_loss: 0.0906 - val_acc: 0.9737\n",
      "Epoch 108/250\n",
      "48000/48000 [==============================] - 3s 56us/step - loss: 0.1147 - acc: 0.9659 - val_loss: 0.0898 - val_acc: 0.9741\n",
      "Epoch 109/250\n",
      "48000/48000 [==============================] - 3s 56us/step - loss: 0.1107 - acc: 0.9673 - val_loss: 0.0901 - val_acc: 0.9738\n",
      "Epoch 110/250\n",
      "48000/48000 [==============================] - 3s 56us/step - loss: 0.1136 - acc: 0.9662 - val_loss: 0.0892 - val_acc: 0.9743\n",
      "Epoch 111/250\n",
      "48000/48000 [==============================] - 3s 58us/step - loss: 0.1118 - acc: 0.9670 - val_loss: 0.0891 - val_acc: 0.9734\n",
      "Epoch 112/250\n",
      "48000/48000 [==============================] - 3s 58us/step - loss: 0.1116 - acc: 0.9674 - val_loss: 0.0892 - val_acc: 0.9741\n",
      "Epoch 113/250\n",
      "48000/48000 [==============================] - 3s 59us/step - loss: 0.1110 - acc: 0.9661 - val_loss: 0.0888 - val_acc: 0.9742\n",
      "Epoch 114/250\n",
      "48000/48000 [==============================] - 3s 58us/step - loss: 0.1130 - acc: 0.9661 - val_loss: 0.0884 - val_acc: 0.9741\n",
      "Epoch 115/250\n",
      "48000/48000 [==============================] - 3s 57us/step - loss: 0.1081 - acc: 0.9674 - val_loss: 0.0881 - val_acc: 0.9742\n",
      "Epoch 116/250\n",
      "48000/48000 [==============================] - 3s 54us/step - loss: 0.1084 - acc: 0.9678 - val_loss: 0.0879 - val_acc: 0.9741\n",
      "Epoch 117/250\n",
      "48000/48000 [==============================] - 3s 59us/step - loss: 0.1083 - acc: 0.9676 - val_loss: 0.0881 - val_acc: 0.9743\n",
      "Epoch 118/250\n",
      "48000/48000 [==============================] - 3s 56us/step - loss: 0.1116 - acc: 0.9669 - val_loss: 0.0874 - val_acc: 0.9743\n",
      "Epoch 119/250\n",
      "48000/48000 [==============================] - 3s 58us/step - loss: 0.1050 - acc: 0.9678 - val_loss: 0.0878 - val_acc: 0.9742\n",
      "Epoch 120/250\n",
      "48000/48000 [==============================] - 3s 56us/step - loss: 0.1056 - acc: 0.9678 - val_loss: 0.0875 - val_acc: 0.9748\n",
      "Epoch 121/250\n",
      "48000/48000 [==============================] - 3s 59us/step - loss: 0.1056 - acc: 0.9677 - val_loss: 0.0869 - val_acc: 0.9743\n",
      "Epoch 122/250\n",
      "48000/48000 [==============================] - 3s 53us/step - loss: 0.1038 - acc: 0.9692 - val_loss: 0.0870 - val_acc: 0.9755\n",
      "Epoch 123/250\n",
      "48000/48000 [==============================] - 3s 59us/step - loss: 0.1074 - acc: 0.9687 - val_loss: 0.0871 - val_acc: 0.9752\n",
      "Epoch 124/250\n",
      "48000/48000 [==============================] - 3s 59us/step - loss: 0.1028 - acc: 0.9686 - val_loss: 0.0863 - val_acc: 0.9750\n",
      "Epoch 125/250\n",
      "48000/48000 [==============================] - 3s 58us/step - loss: 0.1034 - acc: 0.9688 - val_loss: 0.0865 - val_acc: 0.9747\n",
      "Epoch 126/250\n",
      "48000/48000 [==============================] - 3s 59us/step - loss: 0.1061 - acc: 0.9681 - val_loss: 0.0864 - val_acc: 0.9753\n",
      "Epoch 127/250\n",
      "48000/48000 [==============================] - 3s 59us/step - loss: 0.1025 - acc: 0.9686 - val_loss: 0.0860 - val_acc: 0.9753\n",
      "Epoch 128/250\n",
      "48000/48000 [==============================] - 3s 56us/step - loss: 0.1032 - acc: 0.9683 - val_loss: 0.0855 - val_acc: 0.9748\n",
      "Epoch 129/250\n",
      "48000/48000 [==============================] - 3s 58us/step - loss: 0.0998 - acc: 0.9696 - val_loss: 0.0854 - val_acc: 0.9753\n",
      "Epoch 130/250\n",
      "48000/48000 [==============================] - 3s 59us/step - loss: 0.1011 - acc: 0.9692 - val_loss: 0.0856 - val_acc: 0.9753\n",
      "Epoch 131/250\n",
      "48000/48000 [==============================] - 3s 59us/step - loss: 0.1011 - acc: 0.9693 - val_loss: 0.0854 - val_acc: 0.9752\n",
      "Epoch 132/250\n",
      "48000/48000 [==============================] - 3s 58us/step - loss: 0.0994 - acc: 0.9707 - val_loss: 0.0851 - val_acc: 0.9754\n",
      "Epoch 133/250\n",
      "48000/48000 [==============================] - 3s 56us/step - loss: 0.0975 - acc: 0.9712 - val_loss: 0.0845 - val_acc: 0.9753\n",
      "Epoch 134/250\n",
      "48000/48000 [==============================] - 3s 56us/step - loss: 0.0983 - acc: 0.9703 - val_loss: 0.0850 - val_acc: 0.9751\n",
      "Epoch 135/250\n",
      "48000/48000 [==============================] - 3s 59us/step - loss: 0.0982 - acc: 0.9709 - val_loss: 0.0846 - val_acc: 0.9753\n",
      "Epoch 136/250\n",
      "48000/48000 [==============================] - 3s 60us/step - loss: 0.0984 - acc: 0.9702 - val_loss: 0.0847 - val_acc: 0.9748\n",
      "Epoch 137/250\n",
      "48000/48000 [==============================] - 3s 57us/step - loss: 0.0989 - acc: 0.9704 - val_loss: 0.0840 - val_acc: 0.9758\n",
      "Epoch 138/250\n",
      "48000/48000 [==============================] - 3s 59us/step - loss: 0.1001 - acc: 0.9693 - val_loss: 0.0837 - val_acc: 0.9761\n",
      "Epoch 139/250\n",
      "48000/48000 [==============================] - 3s 52us/step - loss: 0.0983 - acc: 0.9701 - val_loss: 0.0836 - val_acc: 0.9754\n",
      "Epoch 140/250\n",
      "48000/48000 [==============================] - 3s 58us/step - loss: 0.0967 - acc: 0.9703 - val_loss: 0.0838 - val_acc: 0.9758\n",
      "Epoch 141/250\n",
      "48000/48000 [==============================] - 3s 60us/step - loss: 0.0952 - acc: 0.9706 - val_loss: 0.0838 - val_acc: 0.9756\n",
      "Epoch 142/250\n",
      "48000/48000 [==============================] - 3s 56us/step - loss: 0.0934 - acc: 0.9712 - val_loss: 0.0838 - val_acc: 0.9756\n",
      "Epoch 143/250\n",
      "48000/48000 [==============================] - 3s 58us/step - loss: 0.0951 - acc: 0.9718 - val_loss: 0.0826 - val_acc: 0.9753\n",
      "Epoch 144/250\n",
      "48000/48000 [==============================] - 3s 58us/step - loss: 0.0933 - acc: 0.9710 - val_loss: 0.0828 - val_acc: 0.9758\n",
      "Epoch 145/250\n",
      "48000/48000 [==============================] - 3s 60us/step - loss: 0.0935 - acc: 0.9715 - val_loss: 0.0826 - val_acc: 0.9759\n",
      "Epoch 146/250\n",
      "48000/48000 [==============================] - 3s 55us/step - loss: 0.0912 - acc: 0.9727 - val_loss: 0.0824 - val_acc: 0.9757\n",
      "Epoch 147/250\n",
      "48000/48000 [==============================] - 3s 58us/step - loss: 0.0940 - acc: 0.9712 - val_loss: 0.0823 - val_acc: 0.9763\n",
      "Epoch 148/250\n",
      "48000/48000 [==============================] - 3s 58us/step - loss: 0.0914 - acc: 0.9728 - val_loss: 0.0825 - val_acc: 0.9758\n",
      "Epoch 149/250\n",
      "48000/48000 [==============================] - 3s 58us/step - loss: 0.0917 - acc: 0.9720 - val_loss: 0.0825 - val_acc: 0.9751\n",
      "Epoch 150/250\n",
      "48000/48000 [==============================] - 3s 55us/step - loss: 0.0912 - acc: 0.9728 - val_loss: 0.0823 - val_acc: 0.9757\n",
      "Epoch 151/250\n",
      "48000/48000 [==============================] - 3s 56us/step - loss: 0.0915 - acc: 0.9717 - val_loss: 0.0829 - val_acc: 0.9758\n",
      "Epoch 152/250\n",
      "48000/48000 [==============================] - 3s 59us/step - loss: 0.0900 - acc: 0.9724 - val_loss: 0.0818 - val_acc: 0.9756\n",
      "Epoch 153/250\n",
      "48000/48000 [==============================] - 3s 58us/step - loss: 0.0905 - acc: 0.9723 - val_loss: 0.0825 - val_acc: 0.9753\n",
      "Epoch 154/250\n",
      "48000/48000 [==============================] - 3s 59us/step - loss: 0.0914 - acc: 0.9725 - val_loss: 0.0821 - val_acc: 0.9757\n",
      "Epoch 155/250\n",
      "48000/48000 [==============================] - 3s 58us/step - loss: 0.0897 - acc: 0.9734 - val_loss: 0.0820 - val_acc: 0.9756\n",
      "Epoch 156/250\n",
      "48000/48000 [==============================] - 3s 59us/step - loss: 0.0904 - acc: 0.9729 - val_loss: 0.0822 - val_acc: 0.9758\n",
      "Epoch 157/250\n",
      "48000/48000 [==============================] - 3s 58us/step - loss: 0.0880 - acc: 0.9730 - val_loss: 0.0812 - val_acc: 0.9753\n",
      "Epoch 158/250\n",
      "48000/48000 [==============================] - 3s 59us/step - loss: 0.0894 - acc: 0.9731 - val_loss: 0.0811 - val_acc: 0.9752\n",
      "Epoch 159/250\n",
      "48000/48000 [==============================] - 3s 60us/step - loss: 0.0854 - acc: 0.9740 - val_loss: 0.0816 - val_acc: 0.9758\n",
      "Epoch 160/250\n",
      "48000/48000 [==============================] - 3s 59us/step - loss: 0.0865 - acc: 0.9731 - val_loss: 0.0813 - val_acc: 0.9758\n",
      "Epoch 161/250\n",
      "48000/48000 [==============================] - 3s 59us/step - loss: 0.0879 - acc: 0.9736 - val_loss: 0.0808 - val_acc: 0.9761\n",
      "Epoch 162/250\n",
      "48000/48000 [==============================] - 2s 52us/step - loss: 0.0893 - acc: 0.9724 - val_loss: 0.0809 - val_acc: 0.9762\n",
      "Epoch 163/250\n",
      "48000/48000 [==============================] - 3s 59us/step - loss: 0.0866 - acc: 0.9731 - val_loss: 0.0806 - val_acc: 0.9761\n",
      "Epoch 164/250\n",
      "48000/48000 [==============================] - 3s 56us/step - loss: 0.0868 - acc: 0.9731 - val_loss: 0.0805 - val_acc: 0.9765\n",
      "Epoch 165/250\n",
      "48000/48000 [==============================] - 3s 60us/step - loss: 0.0842 - acc: 0.9749 - val_loss: 0.0800 - val_acc: 0.9756\n",
      "Epoch 166/250\n",
      "48000/48000 [==============================] - 3s 57us/step - loss: 0.0843 - acc: 0.9745 - val_loss: 0.0807 - val_acc: 0.9762\n",
      "Epoch 167/250\n",
      "48000/48000 [==============================] - 3s 54us/step - loss: 0.0825 - acc: 0.9747 - val_loss: 0.0801 - val_acc: 0.9764\n",
      "Epoch 168/250\n",
      "48000/48000 [==============================] - 3s 59us/step - loss: 0.0849 - acc: 0.9750 - val_loss: 0.0807 - val_acc: 0.9759\n",
      "Epoch 169/250\n",
      "48000/48000 [==============================] - 3s 59us/step - loss: 0.0845 - acc: 0.9745 - val_loss: 0.0802 - val_acc: 0.9758\n",
      "Epoch 170/250\n",
      "48000/48000 [==============================] - 3s 59us/step - loss: 0.0853 - acc: 0.9741 - val_loss: 0.0801 - val_acc: 0.9760\n",
      "Epoch 171/250\n",
      "48000/48000 [==============================] - 3s 57us/step - loss: 0.0848 - acc: 0.9737 - val_loss: 0.0803 - val_acc: 0.9768\n",
      "Epoch 172/250\n",
      "48000/48000 [==============================] - 3s 58us/step - loss: 0.0862 - acc: 0.9735 - val_loss: 0.0803 - val_acc: 0.9762\n",
      "Epoch 173/250\n",
      "48000/48000 [==============================] - 3s 60us/step - loss: 0.0819 - acc: 0.9744 - val_loss: 0.0799 - val_acc: 0.9768\n",
      "Epoch 174/250\n",
      "48000/48000 [==============================] - 3s 57us/step - loss: 0.0834 - acc: 0.9747 - val_loss: 0.0802 - val_acc: 0.9765\n",
      "Epoch 175/250\n",
      "48000/48000 [==============================] - 3s 56us/step - loss: 0.0814 - acc: 0.9748 - val_loss: 0.0795 - val_acc: 0.9766\n",
      "Epoch 176/250\n",
      "48000/48000 [==============================] - 3s 59us/step - loss: 0.0822 - acc: 0.9746 - val_loss: 0.0798 - val_acc: 0.9761\n",
      "Epoch 177/250\n",
      "48000/48000 [==============================] - 3s 60us/step - loss: 0.0794 - acc: 0.9757 - val_loss: 0.0797 - val_acc: 0.9768\n",
      "Epoch 178/250\n",
      "48000/48000 [==============================] - 3s 61us/step - loss: 0.0794 - acc: 0.9753 - val_loss: 0.0802 - val_acc: 0.9764\n",
      "Epoch 179/250\n",
      "48000/48000 [==============================] - 3s 54us/step - loss: 0.0813 - acc: 0.9748 - val_loss: 0.0799 - val_acc: 0.9764\n",
      "Epoch 180/250\n",
      "48000/48000 [==============================] - 3s 58us/step - loss: 0.0811 - acc: 0.9748 - val_loss: 0.0799 - val_acc: 0.9767\n",
      "Epoch 181/250\n",
      "48000/48000 [==============================] - 3s 59us/step - loss: 0.0794 - acc: 0.9757 - val_loss: 0.0794 - val_acc: 0.9763\n",
      "Epoch 182/250\n",
      "48000/48000 [==============================] - 3s 56us/step - loss: 0.0807 - acc: 0.9750 - val_loss: 0.0796 - val_acc: 0.9767\n",
      "Epoch 183/250\n",
      "48000/48000 [==============================] - 3s 58us/step - loss: 0.0799 - acc: 0.9758 - val_loss: 0.0795 - val_acc: 0.9768\n",
      "Epoch 184/250\n",
      "48000/48000 [==============================] - 3s 59us/step - loss: 0.0802 - acc: 0.9755 - val_loss: 0.0793 - val_acc: 0.9763\n",
      "Epoch 185/250\n",
      "48000/48000 [==============================] - 3s 60us/step - loss: 0.0774 - acc: 0.9761 - val_loss: 0.0792 - val_acc: 0.9769\n",
      "Epoch 186/250\n",
      "48000/48000 [==============================] - 3s 56us/step - loss: 0.0775 - acc: 0.9757 - val_loss: 0.0796 - val_acc: 0.9769\n",
      "Epoch 187/250\n",
      "48000/48000 [==============================] - 3s 58us/step - loss: 0.0758 - acc: 0.9767 - val_loss: 0.0793 - val_acc: 0.9765\n",
      "Epoch 188/250\n",
      "48000/48000 [==============================] - 3s 56us/step - loss: 0.0774 - acc: 0.9757 - val_loss: 0.0793 - val_acc: 0.9765\n",
      "Epoch 189/250\n",
      "48000/48000 [==============================] - 3s 59us/step - loss: 0.0759 - acc: 0.9765 - val_loss: 0.0798 - val_acc: 0.9770\n",
      "Epoch 190/250\n",
      "48000/48000 [==============================] - 3s 60us/step - loss: 0.0770 - acc: 0.9760 - val_loss: 0.0789 - val_acc: 0.9770\n",
      "Epoch 191/250\n",
      "48000/48000 [==============================] - 3s 55us/step - loss: 0.0759 - acc: 0.9762 - val_loss: 0.0789 - val_acc: 0.9771\n",
      "Epoch 192/250\n",
      "48000/48000 [==============================] - 3s 59us/step - loss: 0.0806 - acc: 0.9737 - val_loss: 0.0785 - val_acc: 0.9772\n",
      "Epoch 193/250\n",
      "48000/48000 [==============================] - 3s 53us/step - loss: 0.0754 - acc: 0.9771 - val_loss: 0.0788 - val_acc: 0.9773\n",
      "Epoch 194/250\n",
      "48000/48000 [==============================] - 3s 60us/step - loss: 0.0768 - acc: 0.9762 - val_loss: 0.0786 - val_acc: 0.9769\n",
      "Epoch 195/250\n",
      "48000/48000 [==============================] - 3s 53us/step - loss: 0.0765 - acc: 0.9766 - val_loss: 0.0788 - val_acc: 0.9772\n",
      "Epoch 196/250\n",
      "48000/48000 [==============================] - 3s 58us/step - loss: 0.0755 - acc: 0.9770 - val_loss: 0.0788 - val_acc: 0.9770\n",
      "Epoch 197/250\n",
      "48000/48000 [==============================] - 3s 58us/step - loss: 0.0749 - acc: 0.9776 - val_loss: 0.0786 - val_acc: 0.9768\n",
      "Epoch 198/250\n",
      "48000/48000 [==============================] - 3s 59us/step - loss: 0.0735 - acc: 0.9764 - val_loss: 0.0783 - val_acc: 0.9768\n",
      "Epoch 199/250\n",
      "48000/48000 [==============================] - 3s 57us/step - loss: 0.0730 - acc: 0.9779 - val_loss: 0.0780 - val_acc: 0.9768\n",
      "Epoch 200/250\n",
      "48000/48000 [==============================] - 3s 56us/step - loss: 0.0750 - acc: 0.9763 - val_loss: 0.0782 - val_acc: 0.9768\n",
      "Epoch 201/250\n",
      "48000/48000 [==============================] - 3s 59us/step - loss: 0.0748 - acc: 0.9774 - val_loss: 0.0781 - val_acc: 0.9766\n",
      "Epoch 202/250\n",
      "48000/48000 [==============================] - 3s 60us/step - loss: 0.0751 - acc: 0.9768 - val_loss: 0.0783 - val_acc: 0.9768\n",
      "Epoch 203/250\n",
      "48000/48000 [==============================] - 3s 56us/step - loss: 0.0713 - acc: 0.9779 - val_loss: 0.0779 - val_acc: 0.9769\n",
      "Epoch 204/250\n",
      "48000/48000 [==============================] - 3s 58us/step - loss: 0.0746 - acc: 0.9767 - val_loss: 0.0772 - val_acc: 0.9771\n",
      "Epoch 205/250\n",
      "48000/48000 [==============================] - 3s 59us/step - loss: 0.0733 - acc: 0.9774 - val_loss: 0.0777 - val_acc: 0.9769\n",
      "Epoch 206/250\n",
      "48000/48000 [==============================] - 3s 54us/step - loss: 0.0712 - acc: 0.9781 - val_loss: 0.0779 - val_acc: 0.9773\n",
      "Epoch 207/250\n",
      "48000/48000 [==============================] - 3s 59us/step - loss: 0.0739 - acc: 0.9765 - val_loss: 0.0774 - val_acc: 0.9771\n",
      "Epoch 208/250\n",
      "48000/48000 [==============================] - 3s 56us/step - loss: 0.0729 - acc: 0.9772 - val_loss: 0.0772 - val_acc: 0.9777\n",
      "Epoch 209/250\n",
      "48000/48000 [==============================] - 3s 55us/step - loss: 0.0714 - acc: 0.9781 - val_loss: 0.0772 - val_acc: 0.9768\n",
      "Epoch 210/250\n",
      "48000/48000 [==============================] - 3s 54us/step - loss: 0.0708 - acc: 0.9773 - val_loss: 0.0772 - val_acc: 0.9773\n",
      "Epoch 211/250\n",
      "48000/48000 [==============================] - 3s 57us/step - loss: 0.0711 - acc: 0.9782 - val_loss: 0.0771 - val_acc: 0.9770\n",
      "Epoch 212/250\n",
      "48000/48000 [==============================] - 3s 57us/step - loss: 0.0704 - acc: 0.9785 - val_loss: 0.0777 - val_acc: 0.9770\n",
      "Epoch 213/250\n",
      "48000/48000 [==============================] - 3s 58us/step - loss: 0.0699 - acc: 0.9786 - val_loss: 0.0771 - val_acc: 0.9768\n",
      "Epoch 214/250\n",
      "48000/48000 [==============================] - 3s 57us/step - loss: 0.0698 - acc: 0.9779 - val_loss: 0.0770 - val_acc: 0.9773\n",
      "Epoch 215/250\n",
      "48000/48000 [==============================] - 3s 57us/step - loss: 0.0700 - acc: 0.9782 - val_loss: 0.0768 - val_acc: 0.9773\n",
      "Epoch 216/250\n",
      "48000/48000 [==============================] - 3s 58us/step - loss: 0.0697 - acc: 0.9786 - val_loss: 0.0773 - val_acc: 0.9774\n",
      "Epoch 217/250\n",
      "48000/48000 [==============================] - 3s 57us/step - loss: 0.0709 - acc: 0.9778 - val_loss: 0.0776 - val_acc: 0.9773\n",
      "Epoch 218/250\n",
      "48000/48000 [==============================] - 3s 57us/step - loss: 0.0706 - acc: 0.9783 - val_loss: 0.0770 - val_acc: 0.9767\n",
      "Epoch 219/250\n",
      "48000/48000 [==============================] - 3s 58us/step - loss: 0.0694 - acc: 0.9787 - val_loss: 0.0773 - val_acc: 0.9777\n",
      "Epoch 220/250\n",
      "48000/48000 [==============================] - 3s 57us/step - loss: 0.0688 - acc: 0.9785 - val_loss: 0.0770 - val_acc: 0.9772\n",
      "Epoch 221/250\n",
      "48000/48000 [==============================] - 3s 58us/step - loss: 0.0691 - acc: 0.9782 - val_loss: 0.0774 - val_acc: 0.9774\n",
      "Epoch 222/250\n",
      "48000/48000 [==============================] - 3s 58us/step - loss: 0.0688 - acc: 0.9784 - val_loss: 0.0770 - val_acc: 0.9773\n",
      "Epoch 223/250\n",
      "48000/48000 [==============================] - 3s 60us/step - loss: 0.0702 - acc: 0.9782 - val_loss: 0.0767 - val_acc: 0.9774\n",
      "Epoch 224/250\n",
      "48000/48000 [==============================] - 3s 56us/step - loss: 0.0678 - acc: 0.9786 - val_loss: 0.0771 - val_acc: 0.9776\n",
      "Epoch 225/250\n",
      "48000/48000 [==============================] - 3s 60us/step - loss: 0.0673 - acc: 0.9789 - val_loss: 0.0764 - val_acc: 0.9778\n",
      "Epoch 226/250\n",
      "48000/48000 [==============================] - 3s 57us/step - loss: 0.0676 - acc: 0.9788 - val_loss: 0.0764 - val_acc: 0.9778\n",
      "Epoch 227/250\n",
      "48000/48000 [==============================] - 3s 60us/step - loss: 0.0679 - acc: 0.9790 - val_loss: 0.0774 - val_acc: 0.9777\n",
      "Epoch 228/250\n",
      "48000/48000 [==============================] - 3s 57us/step - loss: 0.0684 - acc: 0.9780 - val_loss: 0.0767 - val_acc: 0.9778\n",
      "Epoch 229/250\n",
      "48000/48000 [==============================] - 3s 58us/step - loss: 0.0668 - acc: 0.9792 - val_loss: 0.0763 - val_acc: 0.9776\n",
      "Epoch 230/250\n",
      "48000/48000 [==============================] - 3s 58us/step - loss: 0.0687 - acc: 0.9775 - val_loss: 0.0768 - val_acc: 0.9771\n",
      "Epoch 231/250\n",
      "48000/48000 [==============================] - 3s 60us/step - loss: 0.0666 - acc: 0.9792 - val_loss: 0.0766 - val_acc: 0.9778\n",
      "Epoch 232/250\n",
      "48000/48000 [==============================] - 3s 58us/step - loss: 0.0667 - acc: 0.9789 - val_loss: 0.0765 - val_acc: 0.9779\n",
      "Epoch 233/250\n",
      "48000/48000 [==============================] - 3s 58us/step - loss: 0.0661 - acc: 0.9797 - val_loss: 0.0763 - val_acc: 0.9778\n",
      "Epoch 234/250\n",
      "48000/48000 [==============================] - 3s 59us/step - loss: 0.0670 - acc: 0.9794 - val_loss: 0.0758 - val_acc: 0.9779\n",
      "Epoch 235/250\n",
      "48000/48000 [==============================] - 3s 57us/step - loss: 0.0656 - acc: 0.9791 - val_loss: 0.0763 - val_acc: 0.9784\n",
      "Epoch 236/250\n",
      "48000/48000 [==============================] - 3s 58us/step - loss: 0.0658 - acc: 0.9794 - val_loss: 0.0760 - val_acc: 0.9773\n",
      "Epoch 237/250\n",
      "48000/48000 [==============================] - 3s 58us/step - loss: 0.0665 - acc: 0.9793 - val_loss: 0.0770 - val_acc: 0.9780\n",
      "Epoch 238/250\n",
      "48000/48000 [==============================] - 3s 58us/step - loss: 0.0660 - acc: 0.9793 - val_loss: 0.0761 - val_acc: 0.9781\n",
      "Epoch 239/250\n",
      "48000/48000 [==============================] - 3s 57us/step - loss: 0.0649 - acc: 0.9795 - val_loss: 0.0767 - val_acc: 0.9781\n",
      "Epoch 240/250\n",
      "48000/48000 [==============================] - 3s 55us/step - loss: 0.0665 - acc: 0.9797 - val_loss: 0.0762 - val_acc: 0.9783\n",
      "Epoch 241/250\n",
      "48000/48000 [==============================] - 3s 57us/step - loss: 0.0630 - acc: 0.9803 - val_loss: 0.0761 - val_acc: 0.9780\n",
      "Epoch 242/250\n",
      "48000/48000 [==============================] - 3s 56us/step - loss: 0.0645 - acc: 0.9798 - val_loss: 0.0764 - val_acc: 0.9777\n",
      "Epoch 243/250\n",
      "48000/48000 [==============================] - 3s 61us/step - loss: 0.0622 - acc: 0.9805 - val_loss: 0.0765 - val_acc: 0.9778\n",
      "Epoch 244/250\n",
      "48000/48000 [==============================] - 3s 57us/step - loss: 0.0630 - acc: 0.9805 - val_loss: 0.0762 - val_acc: 0.9781\n",
      "Epoch 245/250\n",
      "48000/48000 [==============================] - 3s 56us/step - loss: 0.0638 - acc: 0.9804 - val_loss: 0.0760 - val_acc: 0.9783\n",
      "Epoch 246/250\n",
      "48000/48000 [==============================] - 3s 61us/step - loss: 0.0625 - acc: 0.9805 - val_loss: 0.0762 - val_acc: 0.9780\n",
      "Epoch 247/250\n",
      "48000/48000 [==============================] - 3s 56us/step - loss: 0.0666 - acc: 0.9790 - val_loss: 0.0758 - val_acc: 0.9780\n",
      "Epoch 248/250\n",
      "48000/48000 [==============================] - 3s 59us/step - loss: 0.0634 - acc: 0.9797 - val_loss: 0.0755 - val_acc: 0.9777\n",
      "Epoch 249/250\n",
      "48000/48000 [==============================] - 3s 60us/step - loss: 0.0602 - acc: 0.9814 - val_loss: 0.0764 - val_acc: 0.9783\n",
      "Epoch 250/250\n",
      "48000/48000 [==============================] - 3s 58us/step - loss: 0.0641 - acc: 0.9802 - val_loss: 0.0761 - val_acc: 0.9781\n"
     ]
    },
    {
     "data": {
      "text/plain": [
       "<keras.callbacks.History at 0xb2d95be80>"
      ]
     },
     "execution_count": 23,
     "metadata": {},
     "output_type": "execute_result"
    }
   ],
   "source": [
    "nb_epoch = 250\n",
    "batch_size = 128\n",
    "nb_classes = 10\n",
    "optimizer = SGD()\n",
    "validation_split = 0.2\n",
    "n_hidden = 128\n",
    "dropout = 0.3\n",
    "\n",
    "model = Sequential(layers=[\n",
    "    Dense(n_hidden),\n",
    "    Activation('relu'),\n",
    "    Dropout(dropout),\n",
    "    Dense(n_hidden),\n",
    "    Activation('relu'),\n",
    "    Dropout(dropout),\n",
    "    Dense(nb_classes),\n",
    "    Activation('softmax')\n",
    "])\n",
    "\n",
    "model.compile(optimizer, loss='categorical_crossentropy', metrics=['accuracy'])\n",
    "model.fit(X_train, y_train, batch_size=batch_size, epochs=nb_epoch, validation_split=validation_split)"
   ]
  },
  {
   "cell_type": "code",
   "execution_count": 24,
   "metadata": {},
   "outputs": [
    {
     "name": "stdout",
     "output_type": "stream",
     "text": [
      "10000/10000 [==============================] - 0s 33us/step\n"
     ]
    },
    {
     "data": {
      "text/plain": [
       "[0.07172030183279421, 0.9789]"
      ]
     },
     "execution_count": 24,
     "metadata": {},
     "output_type": "execute_result"
    }
   ],
   "source": [
    "model.evaluate(X_test, y_test)"
   ]
  },
  {
   "cell_type": "markdown",
   "metadata": {},
   "source": [
    "### Testing different optimizers"
   ]
  },
  {
   "cell_type": "markdown",
   "metadata": {},
   "source": [
    "### Increasing the number of epochs"
   ]
  },
  {
   "cell_type": "markdown",
   "metadata": {},
   "source": [
    "### Increasing the size of batch computation"
   ]
  }
 ],
 "metadata": {
  "kernelspec": {
   "display_name": "Python 3",
   "language": "python",
   "name": "python3"
  },
  "language_info": {
   "codemirror_mode": {
    "name": "ipython",
    "version": 3
   },
   "file_extension": ".py",
   "mimetype": "text/x-python",
   "name": "python",
   "nbconvert_exporter": "python",
   "pygments_lexer": "ipython3",
   "version": "3.7.3"
  }
 },
 "nbformat": 4,
 "nbformat_minor": 2
}
